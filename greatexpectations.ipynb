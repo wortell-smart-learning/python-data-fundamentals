{
 "cells": [
  {
   "cell_type": "markdown",
   "metadata": {},
   "source": [
    "# Great Expectations\n",
    "\n",
    "Data testen in Python\n"
   ]
  },
  {
   "cell_type": "code",
   "execution_count": null,
   "metadata": {},
   "outputs": [],
   "source": [
    "## Prerequisites\n",
    "%pip install great_expectations"
   ]
  },
  {
   "cell_type": "code",
   "execution_count": null,
   "metadata": {},
   "outputs": [],
   "source": [
    "import great_expectations as gx"
   ]
  },
  {
   "cell_type": "markdown",
   "metadata": {},
   "source": [
    "## Overview\n",
    "\n",
    "Great Expectations (gx) is a library to help you write asserts about your data.\n",
    "\n",
    "Usage involves three steps:\n",
    "\n",
    "1. Create a \"DataContext\" object\n",
    "2. Connect to data\n",
    "3. Create expectations (assertions / tests)"
   ]
  },
  {
   "cell_type": "code",
   "execution_count": null,
   "metadata": {},
   "outputs": [],
   "source": [
    "# Create DataContext\n",
    "context = gx.get_context()"
   ]
  },
  {
   "cell_type": "code",
   "execution_count": null,
   "metadata": {},
   "outputs": [],
   "source": [
    "# Connect to data\n",
    "validator = context.sources.pandas_default.read_csv(\n",
    "    'https://github.com/wortell-smart-learning/python-data-fundamentals/raw/main/data/most_voted_titles_enriched.csv'\n",
    ")"
   ]
  },
  {
   "cell_type": "code",
   "execution_count": null,
   "metadata": {},
   "outputs": [],
   "source": [
    "# Create expectations\n",
    "validator.expect_column_values_to_not_be_null('primaryTitle')\n",
    "validator.expect_column_values_to_be_unique('tconst')\n",
    "validator.expect_column_distinct_values_to_be_in_set('titleType', ['movie', 'tvSeries'])\n",
    "validator.expect_column_values_to_be_between('startYear', 1900, 2021)"
   ]
  },
  {
   "cell_type": "markdown",
   "metadata": {},
   "source": [
    "## More information\n",
    "\n",
    "* An overview of GX: [GX Overview](https://docs.greatexpectations.io/docs/conceptual_guides/gx_overview)\n",
    "* Types of expectations: [Expectation creation workflow](https://docs.greatexpectations.io/docs/guides/expectations/create_expectations_overview)"
   ]
  },
  {
   "cell_type": "code",
   "execution_count": null,
   "metadata": {},
   "outputs": [],
   "source": []
  }
 ],
 "metadata": {
  "kernelspec": {
   "display_name": "Python 3",
   "language": "python",
   "name": "python3"
  },
  "language_info": {
   "codemirror_mode": {
    "name": "ipython",
    "version": 3
   },
   "file_extension": ".py",
   "mimetype": "text/x-python",
   "name": "python",
   "nbconvert_exporter": "python",
   "pygments_lexer": "ipython3",
   "version": "3.11.5"
  },
  "orig_nbformat": 4
 },
 "nbformat": 4,
 "nbformat_minor": 2
}
