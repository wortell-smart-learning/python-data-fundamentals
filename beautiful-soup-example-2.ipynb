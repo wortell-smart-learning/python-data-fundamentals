{
 "cells": [
  {
   "cell_type": "code",
   "execution_count": 1,
   "metadata": {},
   "outputs": [
    {
     "ename": "AttributeError",
     "evalue": "'NoneType' object has no attribute 'text'",
     "output_type": "error",
     "traceback": [
      "\u001b[1;31m---------------------------------------------------------------------------\u001b[0m",
      "\u001b[1;31mAttributeError\u001b[0m                            Traceback (most recent call last)",
      "\u001b[1;32mc:\\src\\github\\wortell-smart-learning\\python-data-fundamentals\\beautiful-soup-example-2.ipynb Cell 1\u001b[0m line \u001b[0;36m1\n\u001b[0;32m      <a href='vscode-notebook-cell:/c%3A/src/github/wortell-smart-learning/python-data-fundamentals/beautiful-soup-example-2.ipynb#W0sZmlsZQ%3D%3D?line=8'>9</a>\u001b[0m soup \u001b[39m=\u001b[39m BeautifulSoup(response\u001b[39m.\u001b[39mcontent, \u001b[39m'\u001b[39m\u001b[39mhtml.parser\u001b[39m\u001b[39m'\u001b[39m)\n\u001b[0;32m     <a href='vscode-notebook-cell:/c%3A/src/github/wortell-smart-learning/python-data-fundamentals/beautiful-soup-example-2.ipynb#W0sZmlsZQ%3D%3D?line=10'>11</a>\u001b[0m \u001b[39m# Extract the availability status of the product\u001b[39;00m\n\u001b[1;32m---> <a href='vscode-notebook-cell:/c%3A/src/github/wortell-smart-learning/python-data-fundamentals/beautiful-soup-example-2.ipynb#W0sZmlsZQ%3D%3D?line=11'>12</a>\u001b[0m availability \u001b[39m=\u001b[39m soup\u001b[39m.\u001b[39;49mfind(\u001b[39m'\u001b[39;49m\u001b[39mdiv\u001b[39;49m\u001b[39m'\u001b[39;49m, {\u001b[39m'\u001b[39;49m\u001b[39mclass\u001b[39;49m\u001b[39m'\u001b[39;49m: \u001b[39m'\u001b[39;49m\u001b[39mproduct-availability\u001b[39;49m\u001b[39m'\u001b[39;49m})\u001b[39m.\u001b[39;49mtext\u001b[39m.\u001b[39mstrip()\n\u001b[0;32m     <a href='vscode-notebook-cell:/c%3A/src/github/wortell-smart-learning/python-data-fundamentals/beautiful-soup-example-2.ipynb#W0sZmlsZQ%3D%3D?line=13'>14</a>\u001b[0m \u001b[39m# Check if the product is available for sale\u001b[39;00m\n\u001b[0;32m     <a href='vscode-notebook-cell:/c%3A/src/github/wortell-smart-learning/python-data-fundamentals/beautiful-soup-example-2.ipynb#W0sZmlsZQ%3D%3D?line=14'>15</a>\u001b[0m \u001b[39mif\u001b[39;00m \u001b[39m'\u001b[39m\u001b[39mout of stock\u001b[39m\u001b[39m'\u001b[39m \u001b[39min\u001b[39;00m availability\u001b[39m.\u001b[39mlower():\n",
      "\u001b[1;31mAttributeError\u001b[0m: 'NoneType' object has no attribute 'text'"
     ]
    }
   ],
   "source": [
    "import requests\n",
    "from bs4 import BeautifulSoup\n",
    "\n",
    "# Send a GET request to the product page\n",
    "url = 'https://www.lego.com/en-us/product/10981'\n",
    "response = requests.get(url)\n",
    "\n",
    "# Parse the HTML content using Beautiful Soup\n",
    "soup = BeautifulSoup(response.content, 'html.parser')\n",
    "\n",
    "# Extract the availability status of the product\n",
    "availability = soup.find('meta', {'property': 'product:availability'}).text.strip()\n",
    "# <meta property=\"product:availability\" content=\"in stock\"/>\n",
    "# Check if the product is available for sale\n",
    "if 'out of stock' in availability.lower():\n",
    "    print('The product is currently out of stock.')\n",
    "else:\n",
    "    print('The product is available for sale.')"
   ]
  },
  {
   "cell_type": "code",
   "execution_count": 2,
   "metadata": {},
   "outputs": [],
   "source": [
    "availability = soup.find('meta', {'property': 'product:availability'})"
   ]
  },
  {
   "cell_type": "code",
   "execution_count": 5,
   "metadata": {},
   "outputs": [],
   "source": [
    "boodschappen = [ \"apples\", \"bananas\", \"bread\", \"cookies\", \"milk\", \"grapes\" ]"
   ]
  },
  {
   "cell_type": "code",
   "execution_count": 6,
   "metadata": {},
   "outputs": [
    {
     "name": "stdout",
     "output_type": "stream",
     "text": [
      "selppa\n",
      "sananab\n",
      "daerb\n",
      "seikooc\n",
      "klim\n",
      "separg\n"
     ]
    }
   ],
   "source": [
    "# Reverse the text of each of the items in 'boodschappen'\n",
    "for item in boodschappen:\n",
    "    print(item[::-1])"
   ]
  },
  {
   "cell_type": "code",
   "execution_count": 5,
   "metadata": {},
   "outputs": [
    {
     "name": "stdout",
     "output_type": "stream",
     "text": [
      "The product is available for sale.\n"
     ]
    }
   ],
   "source": [
    "import requests\n",
    "from bs4 import BeautifulSoup\n",
    "\n",
    "# Send a GET request to the product page\n",
    "url = 'https://www.lego.com/en-us/product/10981'\n",
    "response = requests.get(url)\n",
    "\n",
    "# Parse the HTML content using Beautiful Soup\n",
    "soup = BeautifulSoup(response.content, 'html.parser')\n",
    "\n",
    "# Extract the availability status of the product\n",
    "availability = soup.find('meta', {'property': 'product:availability'})\n",
    "\n",
    "# Check if the product is available for sale\n",
    "if availability['content'] == 'in stock':\n",
    "    print('The product is available for sale.')\n",
    "else:\n",
    "    print('The product is currently out of stock.')"
   ]
  },
  {
   "cell_type": "code",
   "execution_count": 2,
   "metadata": {},
   "outputs": [],
   "source": [
    "# Find the tag 'meta' with the property='product:availability'\n"
   ]
  },
  {
   "cell_type": "code",
   "execution_count": 4,
   "metadata": {},
   "outputs": [
    {
     "data": {
      "text/plain": [
       "'in stock'"
      ]
     },
     "execution_count": 4,
     "metadata": {},
     "output_type": "execute_result"
    }
   ],
   "source": [
    "availability['content']"
   ]
  },
  {
   "cell_type": "code",
   "execution_count": null,
   "metadata": {},
   "outputs": [],
   "source": []
  }
 ],
 "metadata": {
  "kernelspec": {
   "display_name": "Python 3",
   "language": "python",
   "name": "python3"
  },
  "language_info": {
   "codemirror_mode": {
    "name": "ipython",
    "version": 3
   },
   "file_extension": ".py",
   "mimetype": "text/x-python",
   "name": "python",
   "nbconvert_exporter": "python",
   "pygments_lexer": "ipython3",
   "version": "3.11.5"
  },
  "orig_nbformat": 4
 },
 "nbformat": 4,
 "nbformat_minor": 2
}
