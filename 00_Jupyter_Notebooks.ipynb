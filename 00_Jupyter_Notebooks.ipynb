{
 "cells": [
  {
   "cell_type": "markdown",
   "metadata": {},
   "source": [
    "# Jupyter notebooks + quick Python refresher"
   ]
  },
  {
   "cell_type": "markdown",
   "metadata": {},
   "source": [
    "---"
   ]
  },
  {
   "cell_type": "markdown",
   "metadata": {},
   "source": [
    "### Why use Jupyter Notebooks? They make it very handy to:\n",
    "- Try out code and experiment with it\n",
    "- Combine code with plots of your data\n",
    "- Annotate your code and findings with markdown, just like this text.\n",
    "- You don't need to rerun your script every time, but can choose parts of it: variables are kept in memory"
   ]
  },
  {
   "cell_type": "markdown",
   "metadata": {},
   "source": [
    "---"
   ]
  },
  {
   "cell_type": "markdown",
   "metadata": {},
   "source": [
    "### You can run code in Jupyter Notebook by using the shortcut `Shift + Enter` inside the code cell.<br>Let's write a welcome text assign it to a variable and use `print()` to get the output"
   ]
  },
  {
   "cell_type": "code",
   "execution_count": null,
   "metadata": {},
   "outputs": [],
   "source": [
    "welcome_text = 'Welcome to this introductory course on python for data analysis'\n",
    "print(welcome_text)"
   ]
  },
  {
   "cell_type": "markdown",
   "metadata": {},
   "source": [
    "### But Jupyter notebook doesn't need the `print()` statement to print a variable. It will print the string representation of your variable when you just type it and then execute it with `Shift + Enter`. See what happens when you just run the code below:"
   ]
  },
  {
   "cell_type": "code",
   "execution_count": null,
   "metadata": {},
   "outputs": [],
   "source": [
    "welcome_text"
   ]
  },
  {
   "cell_type": "markdown",
   "metadata": {},
   "source": [
    "---"
   ]
  },
  {
   "cell_type": "markdown",
   "metadata": {},
   "source": [
    "### What is also very handy, is the `Shift + Tab` inside functions: it shows you all the arguments of that function. See what happens for yourself if you use `Shift + Tab` inside the `print()` function below:"
   ]
  },
  {
   "cell_type": "code",
   "execution_count": null,
   "metadata": {},
   "outputs": [],
   "source": [
    "print()"
   ]
  },
  {
   "cell_type": "markdown",
   "metadata": {},
   "source": [
    "### You can also get information about the documentation of the function, by putting a question mark `?` in front of it and running the cell. Please try below:"
   ]
  },
  {
   "cell_type": "code",
   "execution_count": null,
   "metadata": {},
   "outputs": [],
   "source": [
    "?print"
   ]
  },
  {
   "cell_type": "markdown",
   "metadata": {},
   "source": [
    "---"
   ]
  },
  {
   "cell_type": "markdown",
   "metadata": {},
   "source": [
    "### Good to know is that you also run simple command line statements and other with so-called **magic commands**. They have a `%` in front of the statement. Below is an example with `ls`. This is not a python statement but it will run nevertheless."
   ]
  },
  {
   "cell_type": "code",
   "execution_count": null,
   "metadata": {},
   "outputs": [],
   "source": [
    "%ls -al"
   ]
  },
  {
   "cell_type": "markdown",
   "metadata": {},
   "source": [
    "---"
   ]
  },
  {
   "cell_type": "markdown",
   "metadata": {},
   "source": [
    "### Converting your cell from code to markdown can be done by pressing `Escape` followed by `m`:"
   ]
  },
  {
   "cell_type": "markdown",
   "metadata": {},
   "source": [
    "#### Just writing some markdown\n",
    "- bullet 1\n",
    "- bullet 2"
   ]
  },
  {
   "cell_type": "markdown",
   "metadata": {},
   "source": [
    "### Let's try writing some markdown:"
   ]
  },
  {
   "cell_type": "code",
   "execution_count": null,
   "metadata": {},
   "outputs": [],
   "source": []
  },
  {
   "cell_type": "markdown",
   "metadata": {},
   "source": [
    "---"
   ]
  },
  {
   "cell_type": "markdown",
   "metadata": {},
   "source": [
    "### You can create new code cells by pressing `Escape` followed by `a` (a stands for above). This is very much like a vim code editor. Please try to add some new code cells."
   ]
  },
  {
   "cell_type": "markdown",
   "metadata": {},
   "source": [
    "### The same goes for adding a new code cell below. This can be done by `Escape` followed by `b` (b stands for below)"
   ]
  },
  {
   "cell_type": "markdown",
   "metadata": {},
   "source": [
    "### Deleting cells can be done with `Escape` followed by `dd`. Please delete the cells you just added above or below:"
   ]
  },
  {
   "cell_type": "code",
   "execution_count": null,
   "metadata": {},
   "outputs": [],
   "source": []
  },
  {
   "cell_type": "code",
   "execution_count": null,
   "metadata": {},
   "outputs": [],
   "source": []
  },
  {
   "cell_type": "code",
   "execution_count": null,
   "metadata": {},
   "outputs": [],
   "source": []
  },
  {
   "cell_type": "markdown",
   "metadata": {},
   "source": [
    "---"
   ]
  },
  {
   "cell_type": "markdown",
   "metadata": {},
   "source": [
    "### Python has list over which you can easily iterate. Notice the 4 space indentation (or 1 tab).<br>Let's write a fruit list `['apples', 'banana', 2, 'oranges']` and loop over it."
   ]
  },
  {
   "cell_type": "code",
   "execution_count": null,
   "metadata": {},
   "outputs": [],
   "source": [
    "my_fruits_list = ['apples', 'banana', 2, 'oranges']\n",
    "\n",
    "for fruit in my_fruits_list:\n",
    "    print(fruit)"
   ]
  },
  {
   "cell_type": "markdown",
   "metadata": {},
   "source": [
    "### This is very different from other programming languages where you might write something like this. Here you can also see python's focus on ease and readability:"
   ]
  },
  {
   "cell_type": "code",
   "execution_count": null,
   "metadata": {},
   "outputs": [],
   "source": [
    "for i in range(0, len(my_fruits_list)):\n",
    "    print(my_fruits_list[i])"
   ]
  },
  {
   "cell_type": "markdown",
   "metadata": {},
   "source": [
    "### Or even something like this:"
   ]
  },
  {
   "cell_type": "code",
   "execution_count": null,
   "metadata": {},
   "outputs": [],
   "source": [
    "i = 0\n",
    "\n",
    "while i < len(my_fruits_list):\n",
    "    print(my_fruits_list[i])\n",
    "    i += 1 "
   ]
  },
  {
   "cell_type": "markdown",
   "metadata": {},
   "source": [
    "### Slicing lists using brackets. Slicing starts at 0"
   ]
  },
  {
   "cell_type": "code",
   "execution_count": null,
   "metadata": {},
   "outputs": [],
   "source": [
    "my_fruits_list[0:2]"
   ]
  },
  {
   "cell_type": "markdown",
   "metadata": {},
   "source": [
    "### Getting the last element of a list"
   ]
  },
  {
   "cell_type": "code",
   "execution_count": null,
   "metadata": {},
   "outputs": [],
   "source": [
    "my_fruits_list[-1]"
   ]
  },
  {
   "cell_type": "markdown",
   "metadata": {},
   "source": [
    "---"
   ]
  },
  {
   "cell_type": "markdown",
   "metadata": {},
   "source": [
    "### Python dictionary: key value pairs, unordered."
   ]
  },
  {
   "cell_type": "code",
   "execution_count": null,
   "metadata": {},
   "outputs": [],
   "source": [
    "my_fruits_dict = {\n",
    "    'first': ['apples', 'oranges'],\n",
    "    'second': 'banana',\n",
    "    'third': 3\n",
    "}\n",
    "\n",
    "my_fruits_dict['second']"
   ]
  },
  {
   "cell_type": "markdown",
   "metadata": {},
   "source": [
    "---"
   ]
  },
  {
   "cell_type": "markdown",
   "metadata": {},
   "source": [
    "### Defining a function with `def`:"
   ]
  },
  {
   "cell_type": "code",
   "execution_count": null,
   "metadata": {},
   "outputs": [],
   "source": [
    "### Defining a function with def\n",
    "\n",
    "def add_two_numbers(a, b):\n",
    "    \"\"\"Returns the sum of 2 numbers\"\"\"\n",
    "    return a + b\n",
    "\n",
    "number1 = 2\n",
    "number2 = 3\n",
    "\n",
    "add_two_numbers(2, 3)"
   ]
  }
 ],
 "metadata": {
  "kernelspec": {
   "display_name": "hv_new",
   "language": "python",
   "name": "hv_new"
  },
  "language_info": {
   "codemirror_mode": {
    "name": "ipython",
    "version": 3
   },
   "file_extension": ".py",
   "mimetype": "text/x-python",
   "name": "python",
   "nbconvert_exporter": "python",
   "pygments_lexer": "ipython3",
   "version": "3.7.9"
  }
 },
 "nbformat": 4,
 "nbformat_minor": 4
}
