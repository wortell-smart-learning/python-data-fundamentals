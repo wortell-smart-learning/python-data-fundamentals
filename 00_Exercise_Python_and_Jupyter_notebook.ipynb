{
 "cells": [
  {
   "cell_type": "markdown",
   "metadata": {},
   "source": [
    "# Python + Jupyter exercises"
   ]
  },
  {
   "cell_type": "markdown",
   "metadata": {},
   "source": [
    "## 1) Write a list (the python word for an array) called `my_movies_list` with your 4 favorite movies or tv series\n",
    "#### Hints:\n",
    "- strings can have single quotes `''` or double quotes `\"\"`\n",
    "- list have square brackets `[ ]`"
   ]
  },
  {
   "cell_type": "code",
   "execution_count": null,
   "metadata": {},
   "outputs": [],
   "source": []
  },
  {
   "cell_type": "markdown",
   "metadata": {},
   "source": [
    "## 2) Select the second and third element from your list\n",
    "#### Hints:\n",
    "- python starts counting at 0, so the second element gets index number 1"
   ]
  },
  {
   "cell_type": "code",
   "execution_count": null,
   "metadata": {},
   "outputs": [],
   "source": []
  },
  {
   "cell_type": "markdown",
   "metadata": {},
   "source": [
    "## 3) Select the last element from your list\n",
    "#### Hints:\n",
    "- the last element can be selected by using -1"
   ]
  },
  {
   "cell_type": "code",
   "execution_count": null,
   "metadata": {},
   "outputs": [],
   "source": []
  },
  {
   "cell_type": "markdown",
   "metadata": {},
   "source": [
    "\n",
    "## 4) Write a (pythonic) for loop that loops through your movies list and prints them out\n",
    "#### Hints:\n",
    "- use 4 space indentation or a tab as indentation (although Jupyter will give you this automatically)"
   ]
  },
  {
   "cell_type": "code",
   "execution_count": null,
   "metadata": {},
   "outputs": [],
   "source": []
  },
  {
   "cell_type": "markdown",
   "metadata": {},
   "source": [
    "## 5) Create a dictionary (key -  value pairs) called `my_movies_dict` with the same four movies as keys and for each movie add as a value the rating on a scale of 0 to 10 you would give it\n",
    "#### Hints:\n",
    "- dictionaries use angular brackets, like this: `{}`\n",
    "- an example would be {'God Father': 3}"
   ]
  },
  {
   "cell_type": "code",
   "execution_count": null,
   "metadata": {},
   "outputs": [],
   "source": []
  },
  {
   "cell_type": "markdown",
   "metadata": {},
   "source": [
    "## 6) Use a for loop to print every movie and it's rating of your dictionary:\n",
    "#### Hints:\n",
    "- `your_dict.items()` gives you all items\n",
    "- `your_dict.keys()` gives you all the keys\n",
    "- `your_dict.values()` gives you all the values\n",
    "- you can get a value from a dictionary, when you do: `your_dict['key_name']` and this will return the value"
   ]
  },
  {
   "cell_type": "code",
   "execution_count": null,
   "metadata": {},
   "outputs": [],
   "source": []
  },
  {
   "cell_type": "markdown",
   "metadata": {},
   "source": [
    "## 7) Write a function called `rating_converter()` that takes as input a movie rating and multiplies it with 10 to convert your movie ratings to a scale of 1 to 100. The function should return the new movie rating.\n",
    "#### Hints:\n",
    "- functions start with `def()`\n",
    "- what belongs inside a function should be indented by 4 spaces or a tab"
   ]
  },
  {
   "cell_type": "code",
   "execution_count": null,
   "metadata": {},
   "outputs": [],
   "source": []
  },
  {
   "cell_type": "markdown",
   "metadata": {},
   "source": [
    "## 8) Try tab completion on your rating_converter() function by writing only the first few letters for example `rat` and then pressing the `Tab` key\n",
    "If `tab` does not work in Google Colab, try `Ctrl`+`Space` for completion"
   ]
  },
  {
   "cell_type": "code",
   "execution_count": null,
   "metadata": {},
   "outputs": [],
   "source": []
  },
  {
   "cell_type": "markdown",
   "metadata": {},
   "source": [
    "## 9) In the next exercises we are going to read in data with `pd.read_csv()`. Type `import pandas as pd` to import pandas and after that `pd.read_csv()` below and see what happens when you do `Shift + Tab` inside the brackets of `pd.read_csv()`. You can see all the arguments then.\n",
    "If nothing happens in Google Colab, use here `Ctrl+Space` instead of `Shift + Tab`"
   ]
  },
  {
   "cell_type": "code",
   "execution_count": null,
   "metadata": {},
   "outputs": [],
   "source": []
  },
  {
   "cell_type": "markdown",
   "metadata": {},
   "source": [
    "## 10) Also try tab completion by only writing `pd.read_` and then pressing the  `Tab` key."
   ]
  },
  {
   "cell_type": "code",
   "execution_count": null,
   "metadata": {},
   "outputs": [],
   "source": []
  }
 ],
 "metadata": {
  "kernelspec": {
   "display_name": "hv_new",
   "language": "python",
   "name": "hv_new"
  },
  "language_info": {
   "codemirror_mode": {
    "name": "ipython",
    "version": 3
   },
   "file_extension": ".py",
   "mimetype": "text/x-python",
   "name": "python",
   "nbconvert_exporter": "python",
   "pygments_lexer": "ipython3",
   "version": "3.7.9"
  }
 },
 "nbformat": 4,
 "nbformat_minor": 4
}
