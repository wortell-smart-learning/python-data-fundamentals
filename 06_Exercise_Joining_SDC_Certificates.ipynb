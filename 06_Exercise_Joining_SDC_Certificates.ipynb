{
 "cells": [
  {
   "cell_type": "markdown",
   "metadata": {},
   "source": [
    "# Certificate mania"
   ]
  },
  {
   "cell_type": "markdown",
   "metadata": {},
   "source": [
    "## Try to answer the following question using a merge:<br><br>Which colleague has no certificates registered in the SDC database?"
   ]
  },
  {
   "cell_type": "markdown",
   "metadata": {},
   "source": [
    "#### Hints:\n",
    "- use `df.merge()`\n",
    "- use datafiles `sdc_certificaten.csv` and `sdc_personeel.csv`\n",
    "  * `https://github.com/wortell-smart-learning/python-data-fundamentals/raw/main/data/sdc_certificaten.csv`\n",
    "  * `https://github.com/wortell-smart-learning/python-data-fundamentals/raw/main/data/sdc_personeel.csv`\n",
    "- for joining/merging don't use argument `on` but use `left_on` and `right_on`\n",
    "- you can use `df.unique()` to get the unique nr of values in a column"
   ]
  },
  {
   "cell_type": "markdown",
   "metadata": {},
   "source": [
    "## 1) Looking at `sdc_personeel.csv`, how many colleagues do you have? "
   ]
  },
  {
   "cell_type": "code",
   "execution_count": null,
   "metadata": {},
   "outputs": [],
   "source": []
  },
  {
   "cell_type": "markdown",
   "metadata": {},
   "source": [
    "## 2) How many Barts en Jeroens do we have in our company?"
   ]
  },
  {
   "cell_type": "code",
   "execution_count": null,
   "metadata": {},
   "outputs": [],
   "source": []
  },
  {
   "cell_type": "markdown",
   "metadata": {},
   "source": [
    "## 3) How many certificates are currently listed in `sdc_certificaten.csv` ?"
   ]
  },
  {
   "cell_type": "code",
   "execution_count": null,
   "metadata": {},
   "outputs": [],
   "source": []
  },
  {
   "cell_type": "markdown",
   "metadata": {},
   "source": [
    "## 4) Which certificate is listed the most?"
   ]
  },
  {
   "cell_type": "code",
   "execution_count": null,
   "metadata": {},
   "outputs": [],
   "source": []
  },
  {
   "cell_type": "markdown",
   "metadata": {},
   "source": [
    "## 5) Which certificates does colleague `LaSo` have?"
   ]
  },
  {
   "cell_type": "code",
   "execution_count": null,
   "metadata": {},
   "outputs": [],
   "source": []
  },
  {
   "cell_type": "markdown",
   "metadata": {},
   "source": [
    "## 6) For figuring out who doesn't have a certificate, we need to merge `sdc_personeel.csv` and `sdc_certifaten.csv`. Think carefully how you join these two. Please create the merge and assign it to a new dataframe variable. Use arguments `left_on` and `right_on` instead on `on` to specify the fields of the two tables to join on."
   ]
  },
  {
   "cell_type": "code",
   "execution_count": null,
   "metadata": {},
   "outputs": [],
   "source": []
  },
  {
   "cell_type": "markdown",
   "metadata": {},
   "source": [
    "## 7) So we now have the merged file. Now use for example a `.groupby()` with a `.count()` to figure out who doesn't have any certificates."
   ]
  },
  {
   "cell_type": "code",
   "execution_count": null,
   "metadata": {},
   "outputs": [],
   "source": []
  },
  {
   "cell_type": "markdown",
   "metadata": {},
   "source": [
    "## 8) In which year were the most certificates received? Do a `.groupby()` and as an extra: try to create a nice barplot of the result"
   ]
  },
  {
   "cell_type": "code",
   "execution_count": null,
   "metadata": {},
   "outputs": [],
   "source": []
  }
 ],
 "metadata": {
  "kernelspec": {
   "display_name": "hv_new",
   "language": "python",
   "name": "hv_new"
  },
  "language_info": {
   "codemirror_mode": {
    "name": "ipython",
    "version": 3
   },
   "file_extension": ".py",
   "mimetype": "text/x-python",
   "name": "python",
   "nbconvert_exporter": "python",
   "pygments_lexer": "ipython3",
   "version": "3.7.9"
  }
 },
 "nbformat": 4,
 "nbformat_minor": 4
}
