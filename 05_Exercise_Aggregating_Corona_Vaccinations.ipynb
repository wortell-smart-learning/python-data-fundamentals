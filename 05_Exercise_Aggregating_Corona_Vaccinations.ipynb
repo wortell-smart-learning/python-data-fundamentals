{
 "cells": [
  {
   "cell_type": "markdown",
   "metadata": {},
   "source": [
    "# Exploring Covid vaccinations per country"
   ]
  },
  {
   "cell_type": "markdown",
   "metadata": {},
   "source": [
    "## How well does The Netherlands perform in comparison to other countries with Covid vaccinations?"
   ]
  },
  {
   "cell_type": "markdown",
   "metadata": {},
   "source": [
    "### Hints:\n",
    "- Use dataset `owid-covid-data.csv`\n",
    "- Use columns `location`, `date`, `total_vaccinations` and `total_vaccinations_per_hundred`\n",
    "- You can filter on multiple countries, like this: `df[df['location'].isin(['Netherlands', 'Italy'])]`\n",
    "- You can filter on date pretending it is a string like this: `df.query(\"date > '2020-12-01'\")`"
   ]
  },
  {
   "cell_type": "markdown",
   "metadata": {},
   "source": [
    "### The data comes from this site: \n",
    "#### https://ourworldindata.org/covid-vaccinations"
   ]
  },
  {
   "cell_type": "markdown",
   "metadata": {},
   "source": [
    "## 1. Read in the data\n",
    "- use dataset `owid-covid-data.csv`"
   ]
  },
  {
   "cell_type": "code",
   "execution_count": null,
   "metadata": {},
   "outputs": [],
   "source": []
  },
  {
   "cell_type": "markdown",
   "metadata": {},
   "source": [
    "## 2. Create a dataframe only use the following columns:\n",
    "`['iso_code', 'continent', 'location', 'date', 'total_vaccinations', 'total_vaccinations_per_hundred', 'population']`"
   ]
  },
  {
   "cell_type": "code",
   "execution_count": null,
   "metadata": {},
   "outputs": [],
   "source": []
  },
  {
   "cell_type": "markdown",
   "metadata": {},
   "source": [
    "## 3. Now create a subset of your data of only European countries and only dates from 1 dec 2020 on. \n",
    "## From now only use this subset to answer the questions hereafter!!!\n",
    "- use column `continent` to get the European countries\n",
    "- You can filter on date pretending it is a string like this: `df.query(\"date > '2020-12-01'\")`"
   ]
  },
  {
   "cell_type": "code",
   "execution_count": null,
   "metadata": {},
   "outputs": [],
   "source": []
  },
  {
   "cell_type": "markdown",
   "metadata": {},
   "source": [
    "## 4. Show which country is in the last rows of the dataframe (from now only use the subset you created in 2)"
   ]
  },
  {
   "cell_type": "code",
   "execution_count": null,
   "metadata": {},
   "outputs": [],
   "source": []
  },
  {
   "cell_type": "markdown",
   "metadata": {},
   "source": [
    "## 5. What are the datatypes of the columns in your dataframe?"
   ]
  },
  {
   "cell_type": "code",
   "execution_count": null,
   "metadata": {},
   "outputs": [],
   "source": []
  },
  {
   "cell_type": "markdown",
   "metadata": {},
   "source": [
    "## 6. Which countries are in the dataset?"
   ]
  },
  {
   "cell_type": "code",
   "execution_count": null,
   "metadata": {},
   "outputs": [],
   "source": []
  },
  {
   "cell_type": "markdown",
   "metadata": {},
   "source": [
    "## 7. What is the highest number of total vaccinations in this dataset"
   ]
  },
  {
   "cell_type": "code",
   "execution_count": null,
   "metadata": {},
   "outputs": [],
   "source": []
  },
  {
   "cell_type": "markdown",
   "metadata": {},
   "source": [
    "## 8. What is the total number of vaccinations per country?\n",
    "\n",
    "Hint: You use `.groupby()` here"
   ]
  },
  {
   "cell_type": "code",
   "execution_count": null,
   "metadata": {},
   "outputs": [],
   "source": []
  },
  {
   "cell_type": "markdown",
   "metadata": {},
   "source": [
    "## 9. What is the top 5 European countries that have the most vaccinations at the moment?"
   ]
  },
  {
   "cell_type": "code",
   "execution_count": null,
   "metadata": {},
   "outputs": [],
   "source": []
  },
  {
   "cell_type": "markdown",
   "metadata": {},
   "source": [
    "## 10. Which countries are in the top 5 when you look at the number of vaccinations per 100 people?"
   ]
  },
  {
   "cell_type": "code",
   "execution_count": null,
   "metadata": {},
   "outputs": [],
   "source": []
  },
  {
   "cell_type": "markdown",
   "metadata": {},
   "source": [
    "## 11. Create a scatter plot comparing of `total_vaccinations_per_hundred` (y-axis) per `date` (x-axis) per `location` (color)"
   ]
  },
  {
   "cell_type": "code",
   "execution_count": null,
   "metadata": {},
   "outputs": [],
   "source": []
  },
  {
   "cell_type": "markdown",
   "metadata": {},
   "source": [
    "## 12. Create the same scatter plot as in question 11, but now only showing the following countries:\n",
    "-  `['Netherlands', 'Germany', 'Belgium', 'France', 'Italy', 'Luxembourg', 'United Kingdom']`\n",
    "\n",
    "Hint:\n",
    "- You can filter on multiple countries, like this: `df[df['location'].isin(['Netherlands', 'Italy'])]`"
   ]
  },
  {
   "cell_type": "code",
   "execution_count": null,
   "metadata": {},
   "outputs": [],
   "source": []
  },
  {
   "cell_type": "markdown",
   "metadata": {},
   "source": [
    "## 13. Create a map of the world with px.choropleth() and visualize the differences per country of `total_vaccinations_per_hundred`\n",
    "- documentation: https://plotly.github.io/plotly.py-docs/generated/plotly.express.choropleth.html\n",
    "- use arguments `locations` and `locationmode='country names'` instead of `lat` and `lon`"
   ]
  },
  {
   "cell_type": "code",
   "execution_count": null,
   "metadata": {},
   "outputs": [],
   "source": []
  }
 ],
 "metadata": {
  "kernelspec": {
   "display_name": "hv_new",
   "language": "python",
   "name": "hv_new"
  },
  "language_info": {
   "codemirror_mode": {
    "name": "ipython",
    "version": 3
   },
   "file_extension": ".py",
   "mimetype": "text/x-python",
   "name": "python",
   "nbconvert_exporter": "python",
   "pygments_lexer": "ipython3",
   "version": "3.7.9"
  }
 },
 "nbformat": 4,
 "nbformat_minor": 4
}
